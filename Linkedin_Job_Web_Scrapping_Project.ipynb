{
  "cells": [
    {
      "cell_type": "code",
      "execution_count": null,
      "id": "36a92a46",
      "metadata": {
        "id": "36a92a46"
      },
      "outputs": [],
      "source": [
        "#importing necessary libraries\n",
        "\n",
        "import pandas as pd\n",
        "import numpy as np\n",
        "from selenium import webdriver\n",
        "from bs4 import BeautifulSoup\n",
        "from selenium.webdriver.chrome.service import Service\n",
        "from selenium.webdriver.common.by import By\n",
        "from selenium.webdriver.common.keys import Keys\n",
        "from warnings import warn\n",
        "import time"
      ]
    },
    {
      "cell_type": "code",
      "execution_count": null,
      "id": "abdc92a1",
      "metadata": {
        "id": "abdc92a1"
      },
      "outputs": [],
      "source": [
        "#passing required URL for scrapping\n",
        "\n",
        "driver=webdriver.Chrome(\"chromedriver.exe\")\n",
        "driver.get(\"https://www.linkedin.com\")"
      ]
    },
    {
      "cell_type": "code",
      "execution_count": null,
      "id": "f1b61030",
      "metadata": {
        "id": "f1b61030"
      },
      "outputs": [],
      "source": [
        "#logging in using keys\n",
        "\n",
        "inputID = driver.find_element(by=By.ID, value = \"username\")\n",
        "inputPass = driver.find_element(by=By.ID, value = \"password\")\n",
        "signIn = driver.find_element(by=By.CLASS_NAME, value = \"login__form_action_container \")\n",
        "inputID.send_keys(\"email_id\")\n",
        "inputPass.send_keys(\"password\")\n",
        "signIn.click()\n",
        "\n",
        "time.sleep(10)\n",
        "\n",
        "login_btn = driver.find_element(By.CLASS_NAME,\"sign-in-form__submit-button\")\n",
        "login_btn.click()"
      ]
    },
    {
      "cell_type": "code",
      "execution_count": null,
      "id": "24027e5a",
      "metadata": {
        "id": "24027e5a"
      },
      "outputs": [],
      "source": [
        "#redirecting to desired URL\n",
        "\n",
        "driver.get(\"https://www.linkedin.com/jobs/collections/\")"
      ]
    },
    {
      "cell_type": "code",
      "execution_count": null,
      "id": "887675a3",
      "metadata": {
        "id": "887675a3"
      },
      "outputs": [],
      "source": [
        "#list of elements required\n",
        "\n",
        "name = []\n",
        "designation = []\n",
        "location = []\n",
        "job_link = []\n",
        "industry = []\n",
        "emp_count = []\n",
        "linkedin_followers = []\n",
        "applicants = []\n",
        "involvement = []\n",
        "work_type = []"
      ]
    },
    {
      "cell_type": "code",
      "execution_count": null,
      "id": "6f3567c4",
      "metadata": {
        "id": "6f3567c4"
      },
      "outputs": [],
      "source": [
        "#iterating through page\n",
        "\n",
        "for i in range(1,41):\n",
        "    #button path for page numbers\n",
        "    path ='//button[@aria-label=\"Page {}\"]'.format(i)\n",
        "    \n",
        "    #button clicking    \n",
        "    driver.find_element(By.XPATH, path).click()    \n",
        "    \n",
        "    #html data\n",
        "    src = driver.page_source\n",
        "    soup = BeautifulSoup(src, 'lxml')\n",
        "    \n",
        "    #main page of one job data\n",
        "    lk=soup.findAll(class_=\"disabled ember-view job-card-container__link\")\n",
        "     \n",
        "    #link of a single job data\n",
        "    for i in lk:\n",
        "        # links\n",
        "        li=i['href']\n",
        "        \n",
        "        #every page data\n",
        "        every_page =BeautifulSoup(driver.page_source,'lxml')\n",
        "                \n",
        "        #movig to link using next window_of_ chrome -- alternative of redirecting to original URL\n",
        "        driver.switch_to.new_window('tab')\n",
        "        job_link.append(\"https://www.linkedin.com{}\".format(li))\n",
        "        driver.get(\"https://www.linkedin.com{}\".format(li))\n",
        "        \n",
        "       \n",
        "         # company name\n",
        "        try:\n",
        "            c_name = driver.find_elements(By.CLASS_NAME,'jobs-unified-top-card__company-name')\n",
        "            name.append(c_name[0].text) \n",
        "        except:\n",
        "            name.append(\"N.A.\")\n",
        "         \n",
        "        #designation   \n",
        "        try:\n",
        "            d = driver.find_elements(By.CLASS_NAME,'jobs-unified-top-card__job-title')\n",
        "            designation.append(d[0].text)\n",
        "        except:\n",
        "            designation.append(\"N.A.\")\n",
        "        \n",
        "        #applicants\n",
        "        try:\n",
        "            apl= driver.find_elements(By.XPATH,'/html/body/div[5]/div[3]/div/div[1]/div[1]/div/div[1]/div/div/div[1]/div[1]/span[2]/span[2]/span')\n",
        "            applicants.append(apl[0].text) \n",
        "        except:\n",
        "            applicants.append(\"0\") \n",
        "            \n",
        "            \n",
        "            \n",
        "        #work type\n",
        "        try:\n",
        "            w = driver.find_elements(By.CLASS_NAME,'jobs-unified-top-card__workplace-type')\n",
        "            work_type.append(w[0].text)  \n",
        "        except:\n",
        "            work_type.append(\"N.A.\")\n",
        "        \n",
        "        \n",
        "        #involvement\n",
        "        try:\n",
        "            inv = driver.find_elements(By.CLASS_NAME,'jobs-unified-top-card__job-insight')\n",
        "            involvement.append(inv[0].text)\n",
        "        except:\n",
        "            involvement.append(\"N.A.\")\n",
        "         \n",
        "        #employee count\n",
        "        try:\n",
        "            emp = driver.find_elements(By.CLASS_NAME,'jobs-unified-top-card__job-insight')\n",
        "            emp_count.append(emp[1].text)\n",
        "        except:\n",
        "            emp_count.append(\"N.A.\")\n",
        "        \n",
        "        #location\n",
        "        try:\n",
        "            loc = driver.find_elements(By.CLASS_NAME,'jobs-unified-top-card__bullet')\n",
        "            location.append(loc[0].text)\n",
        "        except:\n",
        "            location.append(\"N.A.\")\n",
        "    \n",
        "        #every page data\n",
        "        every_page =BeautifulSoup(driver.page_source,'lxml')\n",
        "        \n",
        "        \n",
        "        # details\n",
        "        s = []\n",
        "        src = driver.page_source\n",
        "        soup = BeautifulSoup(src, 'lxml')\n",
        "        detail = soup.findAll(class_='ember-view t-black t-normal')\n",
        "        for z in detail:\n",
        "            s.append(z)\n",
        "\n",
        "        # selecting new jobs \n",
        "        for i in s:\n",
        "            pr = i['href']\n",
        "            \n",
        "            #movig to link using next window_of_ chrome\n",
        "            driver.switch_to.new_window('tab')\n",
        "            driver.get(\"https://www.linkedin.com{}\".format(pr))\n",
        "            \n",
        "            time.sleep(6)\n",
        "            \n",
        "            #industry\n",
        "            try:\n",
        "                ind = driver.find_elements(By.CLASS_NAME,'org-top-card-summary-info-list__info-item')\n",
        "                industry.append(ind[0].text)\n",
        "            except:\n",
        "                industry.append(\"not specify\")\n",
        "\n",
        "            #followers    \n",
        "            try:\n",
        "                follow = driver.find_elements(By.XPATH,'//*[@id=\"ember28\"]/div[2]/div[1]/div[1]/div[2]/div/div/div[2]/div[2]')\n",
        "                linkedin_followers.append(follow[0].text)\n",
        "            except:\n",
        "                linkedin_followers.append(\"N/A\")\n",
        "                \n",
        "                \n",
        "            #close current window       \n",
        "            driver.close()\n",
        "            #switch to main(starting) tab/window\n",
        "            driver.switch_to.window(driver.window_handles[-1])\n",
        "     \n",
        "               \n",
        "        # close current window       \n",
        "        driver.close()\n",
        "        #switch to main (starting) tab/window\n",
        "        driver.switch_to.window(driver.window_handles[0])\n"
      ]
    },
    {
      "cell_type": "code",
      "execution_count": null,
      "id": "9b02e448",
      "metadata": {
        "id": "9b02e448"
      },
      "outputs": [],
      "source": [
        "#checking length of lists \n",
        "\n",
        "len(name), len(location), len(applicants), len(designation),len(emp_count),len(industry),len(linkedin_followers),len(involvement),len(work_type)"
      ]
    },
    {
      "cell_type": "code",
      "execution_count": null,
      "id": "b8d53ef0",
      "metadata": {
        "id": "b8d53ef0"
      },
      "outputs": [],
      "source": [
        "#creating tables using pandas\n",
        "\n",
        "main_table = pd.DataFrame({'name':name,'employees_count':emp_count,'linkedin_followers':linkedin_followers,'industry':industry,involvement':involvement,'work_type':work_type ,'total_applicants':applicants})\n"
      ]
    },
    {
      "cell_type": "code",
      "execution_count": null,
      "id": "1ca9e196",
      "metadata": {
        "id": "1ca9e196"
      },
      "outputs": [],
      "source": [
        "import openpyxl\n",
        "\n",
        "main_table.to_excel('main_table.xlsx', sheet_name='sheet_1')"
      ]
    }
  ],
  "metadata": {
    "kernelspec": {
      "display_name": "Python 3 (ipykernel)",
      "language": "python",
      "name": "python3"
    },
    "language_info": {
      "codemirror_mode": {
        "name": "ipython",
        "version": 3
      },
      "file_extension": ".py",
      "mimetype": "text/x-python",
      "name": "python",
      "nbconvert_exporter": "python",
      "pygments_lexer": "ipython3",
      "version": "3.9.12"
    },
    "colab": {
      "provenance": []
    }
  },
  "nbformat": 4,
  "nbformat_minor": 5
}